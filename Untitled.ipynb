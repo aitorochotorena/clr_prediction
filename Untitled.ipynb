{
 "cells": [
  {
   "cell_type": "code",
   "execution_count": 54,
   "metadata": {},
   "outputs": [],
   "source": [
    "from __future__ import print_function\n",
    "from builtins import range\n",
    "\n",
    "import numpy as np\n",
    "from sklearn.base import BaseEstimator, clone\n",
    "from sklearn.utils.validation import check_X_y, check_array, check_is_fitted\n",
    "# from scipy.spatial.distance import cdist\n",
    "from sklearn.metrics.pairwise import pairwise_distances as cdist\n",
    "from sklearn.ensemble import RandomForestClassifier\n",
    "from sklearn.model_selection import cross_val_score\n",
    "from clr import best_clr\n",
    "\n",
    "\n",
    "class CLRcRegressor(BaseEstimator):\n",
    "  def __init__(self, num_planes, kmeans_coef, constr_id,\n",
    "               num_tries=1, clr_lr=None, max_iter=5):\n",
    "    self.num_planes = num_planes\n",
    "    self.kmeans_coef = kmeans_coef\n",
    "    self.num_tries = num_tries\n",
    "    self.constr_id = constr_id\n",
    "    self.clr_lr = clr_lr\n",
    "    self.max_iter = max_iter\n",
    "\n",
    "  def fit(self, X, y, init_labels=None,\n",
    "          seed=None, verbose=False):\n",
    "    if seed is not None:\n",
    "      np.random.seed(seed)\n",
    "\n",
    "    constr = np.empty(X.shape[0], dtype=np.int)\n",
    "    for i, c_id in enumerate(np.unique(X[:, self.constr_id])):\n",
    "      constr[X[:, self.constr_id] == c_id] = i\n",
    "\n",
    "    self.labels_, self.models_, _, _ = best_clr(\n",
    "      X, y, k=self.num_planes, kmeans_X=self.kmeans_coef,\n",
    "      constr=constr, max_iter=self.max_iter, num_tries=self.num_tries,\n",
    "      lr=self.clr_lr,\n",
    "    )\n",
    "    # TODO: optimize this\n",
    "    self.constr_to_label = {}\n",
    "    for i in range(X.shape[0]):\n",
    "      self.constr_to_label[X[i, self.constr_id]] = self.labels_[i]\n",
    "\n",
    "  def init_fit(self, labels, models, constr_to_label):\n",
    "    self.labels_ = labels\n",
    "    self.models_ = models\n",
    "    self.constr_to_label = constr_to_label\n",
    "\n",
    "  def predict(self, X, test_constr=None):\n",
    "    check_is_fitted(self, ['labels_', 'models_'])\n",
    "\n",
    "    if test_constr is None:\n",
    "      test_constr = X[:, self.constr_id]\n",
    "\n",
    "    # TODO: optimize this\n",
    "    test_labels = np.zeros(X.shape[0], np.int)\n",
    "    for i in range(X.shape[0]):\n",
    "      test_labels[i] = self.constr_to_label[test_constr[i]]\n",
    "\n",
    "    preds = np.empty(X.shape[0])\n",
    "    for cl_idx in range(self.num_planes):\n",
    "      if np.sum(test_labels == cl_idx) == 0:\n",
    "        continue\n",
    "      y_pred = self.models_[cl_idx].predict(X[test_labels == cl_idx])\n",
    "      preds[test_labels == cl_idx] = y_pred\n",
    "    return preds\n",
    "\n",
    "\n",
    "class FuzzyCLRRegressor(BaseEstimator):\n",
    "  def __init__(self, num_planes, kmeans_coef,\n",
    "               clr_lr=None, num_tries=1):\n",
    "    self.num_planes = num_planes\n",
    "    self.kmeans_coef = kmeans_coef\n",
    "    self.num_tries = num_tries\n",
    "    self.clr_lr = clr_lr\n",
    "\n",
    "  def fit(self, X, y, init_labels=None, max_iter=20,\n",
    "          seed=None, verbose=False):\n",
    "    if seed is not None:\n",
    "      np.random.seed(seed)\n",
    "    self.labels_, self.models_, self.weights_, _ = best_clr(\n",
    "      X, y, k=self.num_planes, kmeans_X=self.kmeans_coef,\n",
    "      max_iter=max_iter, num_tries=self.num_tries,\n",
    "      lr=self.clr_lr, fuzzy=True\n",
    "    )\n",
    "    self.X_ = X\n",
    "\n",
    "  def predict(self, X):\n",
    "    check_is_fitted(self, ['labels_', 'models_', 'weights_'])\n",
    "\n",
    "    preds = np.empty((X.shape[0], self.num_planes))\n",
    "    for cl_idx in range(self.num_planes):\n",
    "      preds[:, cl_idx] = self.models_[cl_idx].predict(X)\n",
    "    preds = np.sum(preds * self.weights_, axis=1)\n",
    "    return preds\n",
    "\n",
    "\n",
    "class CLRpRegressor(BaseEstimator):\n",
    "  def __init__(self, num_planes, kmeans_coef, clr_lr=None, max_iter=5,\n",
    "               num_tries=1, clf=None, weighted=False, fuzzy=False):\n",
    "    self.num_planes = num_planes\n",
    "    self.kmeans_coef = kmeans_coef\n",
    "    self.num_tries = num_tries\n",
    "    self.weighted = weighted\n",
    "    self.clr_lr = clr_lr\n",
    "    self.fuzzy = fuzzy\n",
    "    self.max_iter = max_iter\n",
    "\n",
    "    if clf is None:\n",
    "      self.clf = RandomForestClassifier(n_estimators=20)\n",
    "    else:\n",
    "      self.clf = clf\n",
    "\n",
    "  def fit(self, X, y, init_labels=None,\n",
    "          seed=None, verbose=False):\n",
    "    if seed is not None:\n",
    "      np.random.seed(seed)\n",
    "    self.labels_, self.models_, _, _ = best_clr(\n",
    "      X, y, k=self.num_planes, kmeans_X=self.kmeans_coef,\n",
    "      max_iter=self.max_iter, num_tries=self.num_tries,\n",
    "      lr=self.clr_lr, fuzzy=self.fuzzy\n",
    "    )\n",
    "    self.X_ = X\n",
    "    if verbose:\n",
    "      label_score = self.get_label_score_()\n",
    "      print(\"Label prediction: {:.6f} +- {:.6f}\".format(\n",
    "        label_score.mean(), label_score.std()))\n",
    "    if np.unique(self.labels_).shape[0] == 1:\n",
    "      self.labels_[0] = 1 if self.labels_[0] == 0 else 0\n",
    "    self.clf.fit(X, self.labels_)\n",
    "\n",
    "  def init_fit(self, X, labels, models):\n",
    "    self.labels_ = labels\n",
    "    self.models_ = models\n",
    "    self.X_ = X\n",
    "    self.clf.fit(X, self.labels_)\n",
    "\n",
    "  def get_label_score_(self):\n",
    "    return cross_val_score(self.clf, self.X_, self.labels_, cv=3).mean()\n",
    "\n",
    "  def predict(self, X):\n",
    "    check_is_fitted(self, ['labels_', 'models_'])\n",
    "\n",
    "    if self.weighted:\n",
    "      if 'n_classes_' in self.clf.__dict__ and self.clf.n_classes_ == self.num_planes:\n",
    "        planes_probs = self.clf.predict_proba(X)\n",
    "      else:\n",
    "        planes_probs = np.zeros((X.shape[0], self.num_planes))\n",
    "        planes_probs[:, self.clf.classes_] = self.clf.predict_proba(X)\n",
    "      preds = np.empty((X.shape[0], self.num_planes))\n",
    "      for cl_idx in range(self.num_planes):\n",
    "        preds[:, cl_idx] = self.models_[cl_idx].predict(X)\n",
    "      preds = np.sum(preds * planes_probs, axis=1)\n",
    "    else:\n",
    "      test_labels = self.clf.predict(X)\n",
    "      preds = np.empty(X.shape[0])\n",
    "      for cl_idx in range(self.num_planes):\n",
    "        if np.sum(test_labels == cl_idx) == 0:\n",
    "          continue\n",
    "        y_pred = self.models_[cl_idx].predict(X[test_labels == cl_idx])\n",
    "        preds[test_labels == cl_idx] = y_pred\n",
    "    return preds\n",
    "\n",
    "\n",
    "class KPlaneLabelPredictor(BaseEstimator):\n",
    "  def __init__(self, num_planes, weight_mode='kplane'):\n",
    "    self.num_planes = num_planes\n",
    "    self.n_classes_ = num_planes\n",
    "    self.weight_mode = weight_mode\n",
    "\n",
    "  def fit(self, X, y):\n",
    "    if self.weight_mode == 'size':\n",
    "      self.weights = np.empty(self.num_planes)\n",
    "      for cl in range(self.num_planes):\n",
    "        self.weights[cl] = np.sum(y == cl)\n",
    "      self.weights /= np.sum(self.weights)\n",
    "    else:\n",
    "      self.centers_ = np.empty((self.num_planes, X.shape[1]))\n",
    "      for cl in range(self.num_planes):\n",
    "        if np.sum(y == cl) == 0:\n",
    "          # filling with inf empty clusters\n",
    "          self.centers_[cl] = np.ones(X.shape[1]) * 1e5\n",
    "          continue\n",
    "        self.centers_[cl] = np.mean(X[y == cl], axis=0)\n",
    "\n",
    "  def predict(self, X):\n",
    "    if self.weight_mode == 'size':\n",
    "      probs = self.predict_proba\n",
    "      return np.argmax(probs)\n",
    "    dst = cdist(self.centers_, X)\n",
    "    return np.argmin(dst, axis=0)\n",
    "\n",
    "  def predict_proba(self, X):\n",
    "    if self.weight_mode == 'size':\n",
    "      return self.weights\n",
    "    dst = cdist(self.centers_, X)\n",
    "    return dst.T / np.sum(dst.T, axis=1, keepdims=True)\n",
    "\n",
    "  def score(self, X, y):\n",
    "    return np.mean(self.predict(X) == y)\n",
    "\n",
    "\n",
    "class KPlaneRegressor(CLRpRegressor):\n",
    "  def __init__(self, num_planes, kmeans_coef, fuzzy=False, max_iter=5,\n",
    "               num_tries=1, weighted=False, clr_lr=None):\n",
    "    weighted_param = True if weighted == 'size' else weighted\n",
    "    super(KPlaneRegressor, self).__init__(\n",
    "      num_planes, kmeans_coef,\n",
    "      num_tries=num_tries, fuzzy=fuzzy, max_iter=max_iter,\n",
    "      clf=KPlaneLabelPredictor(num_planes, weight_mode=weighted),\n",
    "      weighted=weighted_param, clr_lr=clr_lr,\n",
    "    )\n",
    "\n",
    "\n",
    "class RegressorEnsemble(BaseEstimator):\n",
    "  def __init__(self, rgr, n_estimators=10):\n",
    "    self.rgr = rgr\n",
    "    self.n_estimators = n_estimators\n",
    "    self.rgrs = []\n",
    "    for i in range(self.n_estimators):\n",
    "      self.rgrs.append(clone(self.rgr))\n",
    "\n",
    "  def fit(self, X, y, init_labels=None,\n",
    "          seed=None, verbose=False):\n",
    "    if seed is not None:\n",
    "      np.random.seed(seed)\n",
    "    for i in range(self.n_estimators):\n",
    "      self.rgrs[i].fit(X, y, init_labels, verbose=verbose)\n",
    "\n",
    "  def predict(self, X):\n",
    "    ans = np.zeros(X.shape[0])\n",
    "    for i in range(self.n_estimators):\n",
    "      ans += self.rgrs[i].predict(X)\n",
    "    return ans / len(self.rgrs)\n",
    "\n"
   ]
  },
  {
   "cell_type": "code",
   "execution_count": 295,
   "metadata": {},
   "outputs": [],
   "source": [
    "import pandas as pd\n",
    "\n",
    "df = pd.read_excel('data/cluster_test.xlsx') #you could add index_col=0 if there's an index\n",
    "# x=[]\n",
    "X=df['yi']\n",
    "Y=df['ai1']\n",
    "# x\n",
    "# best_clr(X.values.reshape(-1, 1),Y,3)"
   ]
  },
  {
   "cell_type": "code",
   "execution_count": 296,
   "metadata": {},
   "outputs": [
    {
     "data": {
      "text/plain": [
       "0      960\n",
       "1      830\n",
       "2     1260\n",
       "3      610\n",
       "4      590\n",
       "5      900\n",
       "6      820\n",
       "7      880\n",
       "8      860\n",
       "9      760\n",
       "10    1020\n",
       "11    1080\n",
       "12     960\n",
       "13     700\n",
       "14     800\n",
       "15     113\n",
       "16     760\n",
       "17     740\n",
       "18     980\n",
       "19     800\n",
       "Name: yi, dtype: int64"
      ]
     },
     "execution_count": 296,
     "metadata": {},
     "output_type": "execute_result"
    }
   ],
   "source": [
    "X"
   ]
  },
  {
   "cell_type": "code",
   "execution_count": null,
   "metadata": {},
   "outputs": [],
   "source": [
    "from sklearn.linear_model import Ridge, LinearRegression\n",
    "\n",
    "k=3\n",
    "y=Y\n",
    "x=df['yi']\n",
    "X=x.values.reshape(-1, 1)\n",
    "max_iter=5\n",
    "labels=None\n",
    "const=None\n",
    "verbose =None\n",
    "kmeans_X=0.0\n",
    "\n",
    "def reassign_labels(scores, constr):\n",
    "  if constr is None:\n",
    "    return np.argmin(scores, axis=1)\n",
    "  labels = np.empty(scores.shape[0], dtype=np.int)\n",
    "# TODO: make faster?\n",
    "  for c_id in range(constr.max() + 1):\n",
    "    labels[constr == c_id] = np.argmin(np.mean(scores[constr == c_id], axis=0))\n",
    "  return labels\n",
    "\n",
    "if labels is None:\n",
    "    labels = np.random.choice(k, size=X.shape[0])\n",
    "\n",
    "lr=Ridge(alpha=1e-5)\n",
    "models = [clone(lr) for i in range(k)]\n",
    "scores = np.empty((X.shape[0], k))\n",
    "preds = np.empty((X.shape[0], k))\n"
   ]
  },
  {
   "cell_type": "code",
   "execution_count": 305,
   "metadata": {},
   "outputs": [
    {
     "data": {
      "text/plain": [
       "(array([0.5 , 0.25, 0.25]),\n",
       " array([0, 1, 2, 0, 0, 0, 2, 0, 2, 1, 0, 1, 2, 2, 0, 0, 1, 0, 1, 0],\n",
       "       dtype=int64),\n",
       " [Ridge(alpha=1e-05, copy_X=True, fit_intercept=True, max_iter=None,\n",
       "        normalize=False, random_state=None, solver='auto', tol=0.001),\n",
       "  Ridge(alpha=1e-05, copy_X=True, fit_intercept=True, max_iter=None,\n",
       "        normalize=False, random_state=None, solver='auto', tol=0.001),\n",
       "  Ridge(alpha=1e-05, copy_X=True, fit_intercept=True, max_iter=None,\n",
       "        normalize=False, random_state=None, solver='auto', tol=0.001)],\n",
       " 348.97956753264197)"
      ]
     },
     "execution_count": 305,
     "metadata": {},
     "output_type": "execute_result"
    }
   ],
   "source": [
    "\n",
    "# for it in range(max_iter):\n",
    "# rebuild models\n",
    "for cl_idx in range(k):\n",
    "  if np.sum(labels == cl_idx) == 0:\n",
    "    continue\n",
    "  models[cl_idx].fit(X[labels == cl_idx], y[labels == cl_idx])\n",
    "    # reassign points\n",
    "for cl_idx in range(k):\n",
    "  preds[:, cl_idx] = models[cl_idx].predict(X)\n",
    "  scores[:, cl_idx] = (y - preds[:, cl_idx]) ** 2\n",
    "\n",
    "#   if kmeans_X > 0:\n",
    "#     center = np.mean(X[labels == cl_idx], axis=0)\n",
    "#     scores[:, cl_idx] += kmeans_X * np.asarray(np.sum(np.square(X - center), axis=1)).squeeze()\n",
    "\n",
    "labels_prev = labels.copy()\n",
    "labels = reassign_labels(scores, constr)\n",
    "#     if verbose > 1:\n",
    "#       corr_preds = preds[np.arange(preds.shape[0]), labels]\n",
    "#       print(\"Iter #{}: obj = {:.6f}, MSE = {:.6f}, r2 = {:.6f}\".format(\n",
    "#             it, np.mean(scores[np.arange(preds.shape[0]), labels]),\n",
    "#             mse_score(y, corr_preds), r2_score(y, corr_preds),\n",
    "#       ))\n",
    "#     if np.allclose(labels, labels_prev):\n",
    "#       break\n",
    "obj = np.mean(scores[np.arange(preds.shape[0]), labels])\n",
    "# if verbose == 1:\n",
    "#     corr_preds = preds[np.arange(preds.shape[0]), labels]\n",
    "#     print(\"Iter #{}: obj = {:.6f}, MSE = {:.6f}, r2 = {:.6f}\".format(\n",
    "#           it, obj, mse_score(y, corr_preds), r2_score(y, corr_preds),\n",
    "#     ))\n",
    "weights = (labels == np.arange(k)[:,np.newaxis]).sum(axis=1).astype(np.float)\n",
    "weights /= np.sum(weights)\n",
    "# #   return labels, models, weights, obj\n",
    "weights, labels, models, obj\n"
   ]
  },
  {
   "cell_type": "code",
   "execution_count": 274,
   "metadata": {},
   "outputs": [
    {
     "data": {
      "text/plain": [
       "array([[ 7593.13212142,   400.        ],\n",
       "       [ 6149.96741819, 19600.        ],\n",
       "       [  401.19850123, 10000.        ],\n",
       "       [ 2721.55448976,     0.        ],\n",
       "       [  127.98596259,  1600.        ]])"
      ]
     },
     "execution_count": 274,
     "metadata": {},
     "output_type": "execute_result"
    }
   ],
   "source": [
    "scores"
   ]
  },
  {
   "cell_type": "code",
   "execution_count": 276,
   "metadata": {},
   "outputs": [
    {
     "data": {
      "text/plain": [
       "array([[147.13857998,  80.        ],\n",
       "       [141.57827203,  80.        ],\n",
       "       [159.97005988,  80.        ],\n",
       "       [132.1685201 ,  80.        ],\n",
       "       [131.31308811,  80.        ]])"
      ]
     },
     "execution_count": 276,
     "metadata": {},
     "output_type": "execute_result"
    }
   ],
   "source": [
    "preds"
   ]
  },
  {
   "cell_type": "code",
   "execution_count": 261,
   "metadata": {},
   "outputs": [
    {
     "data": {
      "text/plain": [
       "array([[ 3600.        ,  6306.35502447],\n",
       "       [10000.        ,  8711.39228015],\n",
       "       [ 3600.        ,   124.77687513],\n",
       "       [ 1600.        ,   629.64030285],\n",
       "       [    0.        ,   284.54643703]])"
      ]
     },
     "execution_count": 261,
     "metadata": {},
     "output_type": "execute_result"
    }
   ],
   "source": [
    "scores"
   ]
  },
  {
   "cell_type": "code",
   "execution_count": 249,
   "metadata": {},
   "outputs": [
    {
     "data": {
      "text/plain": [
       "array([[2.37861344e+04, 5.93190217e+02, 7.57029374e+03],\n",
       "       [2.39007416e+01, 1.70318223e+04, 3.64418681e+03],\n",
       "       [9.26318911e+01, 1.15567945e+04, 3.85991979e+03],\n",
       "       [2.65465220e+04, 3.30871158e+02, 1.02008123e+04],\n",
       "       [1.55179924e+04, 4.41823608e+02, 3.96162610e+03],\n",
       "       [1.41962792e+04, 1.76169808e+02, 2.79149205e+03],\n",
       "       [3.10348581e+03, 6.41773328e+03, 8.82831394e+01],\n",
       "       [1.22740561e+04, 5.05456611e+02, 2.00497540e+03],\n",
       "       [3.89732248e+03, 5.13971805e+03, 1.07627900e+01],\n",
       "       [3.96317092e-01, 1.89720736e+04, 4.04098893e+03],\n",
       "       [1.94064241e+04, 1.43613638e+02, 5.06663474e+03],\n",
       "       [7.12105489e+03, 1.63116753e+03, 2.35719517e+02],\n",
       "       [6.64219651e+02, 2.42252114e+04, 8.64761716e+03],\n",
       "       [5.70782307e+03, 4.27291589e+03, 1.50267496e+02],\n",
       "       [1.88647857e+04, 4.62099401e-01, 5.26299008e+03],\n",
       "       [3.01682145e+04, 6.13819915e+01, 1.42246634e+04],\n",
       "       [1.12987061e+02, 1.63172906e+04, 2.86961347e+03],\n",
       "       [1.49498885e+04, 2.87255557e+02, 3.40747787e+03],\n",
       "       [2.76542845e+03, 5.84231513e+03, 2.23052559e+02],\n",
       "       [2.17117684e+04, 1.14057678e+02, 6.81391945e+03]])"
      ]
     },
     "execution_count": 249,
     "metadata": {},
     "output_type": "execute_result"
    }
   ],
   "source": [
    "scores"
   ]
  },
  {
   "cell_type": "code",
   "execution_count": 207,
   "metadata": {},
   "outputs": [
    {
     "data": {
      "text/plain": [
       "array([6., 5., 9.])"
      ]
     },
     "execution_count": 207,
     "metadata": {},
     "output_type": "execute_result"
    }
   ],
   "source": [
    "(labels == np.arange(k)[:,np.newaxis]).sum(axis=1).astype(np.float)"
   ]
  },
  {
   "cell_type": "code",
   "execution_count": 221,
   "metadata": {},
   "outputs": [
    {
     "data": {
      "text/plain": [
       "4.0"
      ]
     },
     "execution_count": 221,
     "metadata": {},
     "output_type": "execute_result"
    }
   ],
   "source": [
    "x = 12\n",
    "x /= 3\n",
    "x"
   ]
  },
  {
   "cell_type": "code",
   "execution_count": 194,
   "metadata": {},
   "outputs": [
    {
     "data": {
      "text/plain": [
       "array([[2, 4, 7, 2, 8],\n",
       "       [3, 1, 8, 3, 1],\n",
       "       [2, 9, 1, 1, 3],\n",
       "       [7, 5, 9, 5, 5]])"
      ]
     },
     "execution_count": 194,
     "metadata": {},
     "output_type": "execute_result"
    }
   ],
   "source": [
    "A = np.random.randint(10, size=(4, 5))\n",
    "A"
   ]
  },
  {
   "cell_type": "code",
   "execution_count": 197,
   "metadata": {},
   "outputs": [
    {
     "data": {
      "text/plain": [
       "(4, 5)"
      ]
     },
     "execution_count": 197,
     "metadata": {},
     "output_type": "execute_result"
    }
   ],
   "source": [
    "np.shape(A)"
   ]
  },
  {
   "cell_type": "code",
   "execution_count": 199,
   "metadata": {},
   "outputs": [
    {
     "data": {
      "text/plain": [
       "(4, 1, 5)"
      ]
     },
     "execution_count": 199,
     "metadata": {},
     "output_type": "execute_result"
    }
   ],
   "source": [
    "B=A[:,np.newaxis]\n",
    "np.shape(B)"
   ]
  },
  {
   "cell_type": "code",
   "execution_count": 98,
   "metadata": {},
   "outputs": [
    {
     "data": {
      "text/plain": [
       "array([0, 1, 2])"
      ]
     },
     "execution_count": 98,
     "metadata": {},
     "output_type": "execute_result"
    }
   ],
   "source": [
    ">>> x = np.array([[[[0], [1], [2]]]])\n",
    ">>> xy=x.squeeze()\n",
    "# x\n",
    "xy"
   ]
  },
  {
   "cell_type": "code",
   "execution_count": 99,
   "metadata": {},
   "outputs": [
    {
     "data": {
      "text/plain": [
       "array([0, 1, 2])"
      ]
     },
     "execution_count": 99,
     "metadata": {},
     "output_type": "execute_result"
    }
   ],
   "source": [
    ">>> xy.squeeze()\n"
   ]
  },
  {
   "cell_type": "code",
   "execution_count": null,
   "metadata": {},
   "outputs": [],
   "source": []
  }
 ],
 "metadata": {
  "kernelspec": {
   "display_name": "Python 3",
   "language": "python",
   "name": "python3"
  },
  "language_info": {
   "codemirror_mode": {
    "name": "ipython",
    "version": 3
   },
   "file_extension": ".py",
   "mimetype": "text/x-python",
   "name": "python",
   "nbconvert_exporter": "python",
   "pygments_lexer": "ipython3",
   "version": "3.7.5"
  }
 },
 "nbformat": 4,
 "nbformat_minor": 4
}
